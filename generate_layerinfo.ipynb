{
 "cells": [
  {
   "cell_type": "code",
   "execution_count": 2,
   "id": "fae0afc1",
   "metadata": {},
   "outputs": [],
   "source": [
    "import pandas as pd\n",
    "\n",
    "def generate_layerinfo(mapping_path: str,\n",
    "                       output_path: str = \"layerinfo.csv\",\n",
    "                       default_layer_num: int = 1) -> pd.DataFrame:\n",
    "    \"\"\"\n",
    "    metabolite_mapping.set (tab-separated) 파일을 읽어\n",
    "    pathway 코드별로 metabolite 개수를 세고,\n",
    "    모두 같은 default_layer_num 값을 부여한 뒤\n",
    "    layerinfo.csv 로 저장합니다.\n",
    "\n",
    "    Parameters\n",
    "    ----------\n",
    "    mapping_path : str\n",
    "        pathway-to-metabolite 매핑 파일 경로 (예: \"metabolite_mapping.set\").\n",
    "    output_path : str, optional\n",
    "        생성할 CSV 파일명, by default \"layerinfo.csv\".\n",
    "    default_layer_num : int, optional\n",
    "        pathway마다 부여할 레이어 수, by default 1.\n",
    "\n",
    "    Returns\n",
    "    -------\n",
    "    pd.DataFrame\n",
    "        생성된 DataFrame (columns: pathway, node_num, layer_num).\n",
    "    \"\"\"\n",
    "    # 1) 매핑 파일 읽기\n",
    "    df = pd.read_csv(mapping_path,\n",
    "                     sep='\\t',\n",
    "                     header=None,\n",
    "                     names=[\"pathway\", \"metabolite\"],\n",
    "                     dtype={\"pathway\": str, \"metabolite\": str})\n",
    "\n",
    "    # 2) pathway별 metabolite 개수 집계\n",
    "    agg = (\n",
    "        df\n",
    "        .groupby(\"pathway\")\n",
    "        .size()\n",
    "        .reset_index(name=\"node_num\")\n",
    "    )\n",
    "\n",
    "    # 3) layer_num 컬럼 추가\n",
    "    agg[\"layer_num\"] = default_layer_num\n",
    "\n",
    "    # 4) CSV 저장\n",
    "    agg.to_csv(output_path, index=False)\n",
    "\n",
    "    return agg\n",
    "\n",
    "\n",
    "filepath = 'metabolite_mapping.set'\n",
    "layerinfo = generate_layerinfo(filepath, output_path='layerinfo.csv', default_layer_num=6)"
   ]
  },
  {
   "cell_type": "code",
   "execution_count": null,
   "id": "57ecb0e7",
   "metadata": {},
   "outputs": [],
   "source": []
  }
 ],
 "metadata": {
  "kernelspec": {
   "display_name": "openBINN",
   "language": "python",
   "name": "python3"
  },
  "language_info": {
   "codemirror_mode": {
    "name": "ipython",
    "version": 3
   },
   "file_extension": ".py",
   "mimetype": "text/x-python",
   "name": "python",
   "nbconvert_exporter": "python",
   "pygments_lexer": "ipython3",
   "version": "3.9.21"
  }
 },
 "nbformat": 4,
 "nbformat_minor": 5
}
